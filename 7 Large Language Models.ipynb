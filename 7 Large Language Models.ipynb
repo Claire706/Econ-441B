{
 "cells": [
  {
   "cell_type": "code",
   "execution_count": 1,
   "metadata": {
    "id": "Q2A8TGhKm3i5"
   },
   "outputs": [],
   "source": [
    "import openai\n",
    "import os\n",
    "import wikipedia"
   ]
  },
  {
   "cell_type": "markdown",
   "metadata": {
    "id": "7E9HEMJSX-3T"
   },
   "source": [
    "# 1.) Set up OpenAI and the enviornment\n"
   ]
  },
  {
   "cell_type": "code",
   "execution_count": 3,
   "metadata": {},
   "outputs": [],
   "source": [
    "openai.api_key = apikey"
   ]
  },
  {
   "cell_type": "code",
   "execution_count": 4,
   "metadata": {},
   "outputs": [],
   "source": [
    "client = openai.OpenAI(api_key = openai.api_key)"
   ]
  },
  {
   "cell_type": "markdown",
   "metadata": {
    "id": "tOXc5_BTm9HP"
   },
   "source": [
    "# 2.) Use the wikipedia api to get a function that pulls in the text of a wikipedia page"
   ]
  },
  {
   "cell_type": "code",
   "execution_count": 5,
   "metadata": {
    "id": "Kw5H5jMlmmS3"
   },
   "outputs": [],
   "source": [
    "def get_wikipedia_content(page_title):\n",
    "    search_results = wikipedia.search(page_title)\n",
    "    page = wikipedia.page(search_results[0])\n",
    "    return(page.content)"
   ]
  },
  {
   "cell_type": "markdown",
   "metadata": {
    "id": "_9aruncMmubX"
   },
   "source": [
    "# 3.) Build a chatgpt bot that will analyze the text given and try to locate any false info"
   ]
  },
  {
   "cell_type": "code",
   "execution_count": 6,
   "metadata": {
    "id": "_TMKFGN4nDJ4"
   },
   "outputs": [],
   "source": [
    "def chatgpt_error_correction(wiki_content):\n",
    "    chat_completion = client.chat.completions.create(\n",
    "        model = \"gpt-4\", \n",
    "        messages = [{'role':'system', 'content':'I will be giving you an artical let me know if anything is false. If there are any possible potential errors please number them and be very consice when quoting them. If there is no errors found then just return NONE'},\n",
    "                {'role':'system', 'content':wiki_content[:8192]}]\n",
    "    )\n",
    "    \n",
    "    return (chat_completion.choices[0].message.content)"
   ]
  },
  {
   "cell_type": "markdown",
   "metadata": {
    "id": "zPw5LyPEobmk"
   },
   "source": [
    "# 4.) Make a for loop and check a few wikipedia pages and return a report of any potentially false info via wikipedia"
   ]
  },
  {
   "cell_type": "code",
   "execution_count": 7,
   "metadata": {},
   "outputs": [],
   "source": [
    "# def split_text(text, chuck_size=8180):\n",
    "#     chunks = len(text)//8180+1\n",
    "#     return(text[i*chunk_size:(i+1)*chunk_size] for i in range(0, (chunks-1)))"
   ]
  },
  {
   "cell_type": "code",
   "execution_count": 8,
   "metadata": {
    "id": "V7cuhML2ocGn"
   },
   "outputs": [
    {
     "name": "stdout",
     "output_type": "stream",
     "text": [
      "___________ Artificial Intelligence\n",
      "NONE\n",
      "___________ Linear Regression\n",
      "NONE\n",
      "___________ UCLA\n",
      "1. \"Its academic roots were established in 1881 as a normal school then known as the southern branch of the California State Normal School which later evolved into San José State University.\" This statement is not accurate. The southern branch of the California State Normal School did not evolve into San José State University. The original California State Normal School is what became San José State University.\n",
      "2. \"The University of California, becoming the Southern Branch of UC in 1919, making it the second-oldest of the ten-campus University of California system after the University of California, Berkeley\". UCLA is not the second-oldest campus in the UC system. The second oldest would be UC Davis, founded in 1905.\n",
      "3. \"They have won 121 NCAA team championships, second only to Stanford University's 128 team titles.\" As of early 2022, UCLA leads the nation (both men and women combined) in NCAA team championships, with Stanford University being second.\n",
      "4. \"The Southern Branch campus opened on September 15 of that year, offering two-year undergraduate programs to 250 Junior College students and 1,250 students in the Teachers College.\" The Southern Branch did not open on September 15, it opened on September 14, 1919.\n",
      "5. \"In the same year, the state broke ground in Westwood on land sold for $1 million, less than one-third its value, by real estate developers Edwin and Harold Janss, for whom the Janss Steps are named.\" It was almost two-thirds of its value and not less than one-third its value.\n"
     ]
    }
   ],
   "source": [
    "page_titles = ['Artificial Intelligence', 'Linear Regression', 'UCLA']\n",
    "\n",
    "for page_title in page_titles:\n",
    "    print(\"___________\", page_title)\n",
    "    \n",
    "    wiki_content = get_wikipedia_content(page_title)\n",
    "    print(chatgpt_error_correction(wiki_content))"
   ]
  },
  {
   "cell_type": "code",
   "execution_count": null,
   "metadata": {},
   "outputs": [],
   "source": []
  }
 ],
 "metadata": {
  "colab": {
   "provenance": []
  },
  "kernelspec": {
   "display_name": "Python 3 (ipykernel)",
   "language": "python",
   "name": "python3"
  },
  "language_info": {
   "codemirror_mode": {
    "name": "ipython",
    "version": 3
   },
   "file_extension": ".py",
   "mimetype": "text/x-python",
   "name": "python",
   "nbconvert_exporter": "python",
   "pygments_lexer": "ipython3",
   "version": "3.10.9"
  }
 },
 "nbformat": 4,
 "nbformat_minor": 1
}
